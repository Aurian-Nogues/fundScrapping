{
 "cells": [
  {
   "cell_type": "code",
   "execution_count": 1,
   "metadata": {},
   "outputs": [],
   "source": [
    "import pandas as pd\n",
    "import os\n",
    "from pathlib import Path\n",
    "import csv\n",
    "from sec_edgar_downloader import Downloader #https://pypi.org/project/sec-edgar-downloader/"
   ]
  },
  {
   "cell_type": "markdown",
   "metadata": {},
   "source": [
    "## Define useful functions"
   ]
  },
  {
   "cell_type": "code",
   "execution_count": 2,
   "metadata": {},
   "outputs": [],
   "source": [
    "def checkCreateFolder(fundName):\n",
    "    #check if fund folder exists in /Data/, if not create one\n",
    "    #also check if csv file exists in /Data/[fund_name]/, if not create it\n",
    "    formattedFundName = fundName.replace(' ', '_')\n",
    "        #create fund folder if it does not exist\n",
    "    fundPath = os.path.abspath(os.path.join('..','Data', formattedFundName))\n",
    "    Path(fundPath).mkdir(parents=True, exist_ok=True)\n",
    "    #create csv with fund positions if does not exist\n",
    "    fileName = formattedFundName + '.csv'\n",
    "    if fileName not in os.listdir(fundPath):\n",
    "        filePath = os.path.abspath(os.path.join('..','Data', formattedFundName, fileName))\n",
    "        #add headers to csv file\n",
    "        with(open(filePath, 'w', newline = '')) as csv_file:\n",
    "                #will create the file if it does not exist\n",
    "            writer = csv.writer(csv_file)\n",
    "            writer.writerow(['sub_rpt_dt','cusip','s_name','value','nshares','sub_rpttyp','sub_fil_dt'])"
   ]
  },
  {
   "cell_type": "code",
   "execution_count": 5,
   "metadata": {},
   "outputs": [],
   "source": [
    "def downloadFiles(sec_id, fundName):\n",
    "    #will download all required 13F-HR reports for a given sec_id\n",
    "    #this seems to handle and avoid duplication from the package\n",
    "    formattedFundName = fundName.replace(' ', '_')\n",
    "    downloadPath = os.path.abspath(os.path.join('..','Data', formattedFundName))\n",
    "    #inialize downloader instance\n",
    "    dl = Downloader(downloadPath)\n",
    "    #if no date was passed, download all reports\n",
    "    if startDate == None:\n",
    "        dl.get(\"13F-HR\",sec_id)\n",
    "    else:\n",
    "        dl.get(\"13F-HR\",sec_id, after_date = startDate)\n",
    "    \n",
    "    \n",
    "    "
   ]
  },
  {
   "cell_type": "markdown",
   "metadata": {},
   "source": [
    "## Get all funds to download"
   ]
  },
  {
   "cell_type": "code",
   "execution_count": 6,
   "metadata": {},
   "outputs": [],
   "source": [
    "fundlistPath = os.path.abspath(os.path.join('..', 'Funds.xlsx')) #read funds.xlsx spreadsheet at root folder\n",
    "fundsDf = pd.read_excel (fundlistPath)"
   ]
  },
  {
   "cell_type": "markdown",
   "metadata": {},
   "source": [
    "## Loop over each fund"
   ]
  },
  {
   "cell_type": "code",
   "execution_count": 7,
   "metadata": {},
   "outputs": [],
   "source": [
    "for i in range(len(fundsDf.index)):\n",
    "    #get fund name and ID\n",
    "    fundName = fundsDf['FUND'].iloc[i]\n",
    "    fundId = fundsDf['SEC ID'].iloc[i]\n",
    "    checkCreateFolder(fundName) #call checkCreateFolder to create folders and files that are missing\n",
    "    downloadFiles(startDate = sec_id = fundId,fundName = fundName)\n",
    "    \n",
    "    "
   ]
  },
  {
   "cell_type": "code",
   "execution_count": null,
   "metadata": {},
   "outputs": [],
   "source": []
  },
  {
   "cell_type": "code",
   "execution_count": null,
   "metadata": {},
   "outputs": [],
   "source": []
  }
 ],
 "metadata": {
  "kernelspec": {
   "display_name": "Python 3",
   "language": "python",
   "name": "python3"
  },
  "language_info": {
   "codemirror_mode": {
    "name": "ipython",
    "version": 3
   },
   "file_extension": ".py",
   "mimetype": "text/x-python",
   "name": "python",
   "nbconvert_exporter": "python",
   "pygments_lexer": "ipython3",
   "version": "3.8.5"
  }
 },
 "nbformat": 4,
 "nbformat_minor": 4
}

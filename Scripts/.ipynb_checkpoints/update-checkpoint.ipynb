{
 "cells": [
  {
   "cell_type": "code",
   "execution_count": 99,
   "metadata": {},
   "outputs": [],
   "source": [
    "import pandas as pd\n",
    "import os"
   ]
  },
  {
   "cell_type": "markdown",
   "metadata": {},
   "source": [
    "## Define useful functions"
   ]
  },
  {
   "cell_type": "code",
   "execution_count": 102,
   "metadata": {},
   "outputs": [],
   "source": [
    "#check if fund folder exists in /Data/, if not create one\n",
    "#also check if csv file exists in /Data/[fund_name]/, if not create it\n",
    "def checkCreateFolder(fundName):\n",
    "    formattedFundName = fundName.replace(' ', '_')\n",
    "        #create fund folder if it does not exist\n",
    "    fundPath = os.path.abspath(os.path.join('..','Data', formattedFundName))\n",
    "    Path(fundPath).mkdir(parents=True, exist_ok=True)\n",
    "    #create csv with fund positions if does not exist\n",
    "    fileName = formattedFundName + '.csv'\n",
    "    if fileName not in os.listdir(fundPath):\n",
    "        filePath = os.path.abspath(os.path.join('..','Data', formattedFundName, fileName))\n",
    "        print(filePath)\n",
    "        with(open(filePath, 'w')) as empty_csv:\n",
    "            pass #will create the file if it does not exist"
   ]
  },
  {
   "cell_type": "markdown",
   "metadata": {},
   "source": [
    "## Get all funds to download"
   ]
  },
  {
   "cell_type": "code",
   "execution_count": 103,
   "metadata": {},
   "outputs": [],
   "source": [
    "fundlistPath = os.path.abspath(os.path.join('..', 'Funds.xlsx')) #read funds.xlsx spreadsheet at root folder\n",
    "fundsDf = pd.read_excel (fundlistPath)"
   ]
  },
  {
   "cell_type": "markdown",
   "metadata": {},
   "source": [
    "## Loop over each fund"
   ]
  },
  {
   "cell_type": "code",
   "execution_count": null,
   "metadata": {},
   "outputs": [],
   "source": [
    "for i in range(len(fundsDf.index)):\n",
    "    #get fund name and ID\n",
    "    fundName = fundsDf['FUND'].iloc[i]\n",
    "    fundId = fundsDf['SEC ID'].iloc[i]\n",
    "    checkCreateFolder(fundName) #call checkCreateFolder to create folders and files that are missing\n",
    "    \n",
    "    \n",
    "    "
   ]
  }
 ],
 "metadata": {
  "kernelspec": {
   "display_name": "Python 3",
   "language": "python",
   "name": "python3"
  },
  "language_info": {
   "codemirror_mode": {
    "name": "ipython",
    "version": 3
   },
   "file_extension": ".py",
   "mimetype": "text/x-python",
   "name": "python",
   "nbconvert_exporter": "python",
   "pygments_lexer": "ipython3",
   "version": "3.8.5"
  }
 },
 "nbformat": 4,
 "nbformat_minor": 4
}
